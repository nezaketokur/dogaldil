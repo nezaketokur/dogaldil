{
  "nbformat": 4,
  "nbformat_minor": 0,
  "metadata": {
    "colab": {
      "provenance": [],
      "mount_file_id": "1GtljHCt0U_DaWvTPowa_ZqEPRahFIIgj",
      "authorship_tag": "ABX9TyO5QOz2+U7vGi9VQM6Ifp2B",
      "include_colab_link": true
    },
    "kernelspec": {
      "name": "python3",
      "display_name": "Python 3"
    },
    "language_info": {
      "name": "python"
    }
  },
  "cells": [
    {
      "cell_type": "markdown",
      "metadata": {
        "id": "view-in-github",
        "colab_type": "text"
      },
      "source": [
        "<a href=\"https://colab.research.google.com/github/nezaketokur/dogaldil/blob/main/do%C4%9Faldil.ipynb\" target=\"_parent\"><img src=\"https://colab.research.google.com/assets/colab-badge.svg\" alt=\"Open In Colab\"/></a>"
      ]
    },
    {
      "cell_type": "code",
      "execution_count": 11,
      "metadata": {
        "colab": {
          "base_uri": "https://localhost:8080/"
        },
        "id": "EMClEBeBSJzx",
        "outputId": "0bddbced-156c-44b2-f39c-492f977bff56"
      },
      "outputs": [
        {
          "output_type": "stream",
          "name": "stdout",
          "text": [
            "Detected language: Spanish\n"
          ]
        }
      ],
      "source": [
        "# detect_language.py\n",
        "\n",
        "def detect_language(text):\n",
        "    # Her dil için bazı sık kullanılan kelimeler ve karakterleri belirleyelim.\n",
        "    languages = {\n",
        "        'Turkish': {'ve', 'bu', 'bir', 'de', 'ç', 'ğ', 'ı', 'ş', 'ö', 'ü'},\n",
        "        'English': {'the', 'and', 'is', 'in', 'to', 'of'},\n",
        "        'German': {'und', 'der', 'die', 'das', 'ist', 'ß'},\n",
        "        'French': {'le', 'la', 'et', 'est', 'à', 'ç'},\n",
        "        'Spanish': {'el', 'la', 'es', 'en', 'de', 'ñ'}\n",
        "    }\n",
        "\n",
        "    # Her dil için bir puanlama yapacağız\n",
        "    scores = {lang: 0 for lang in languages.keys()}\n",
        "\n",
        "    # Metindeki her kelime için dildeki karşılıkları kontrol edelim.\n",
        "    for word in text.lower().split():\n",
        "        for lang, keywords in languages.items():\n",
        "            if word in keywords:\n",
        "                scores[lang] += 1\n",
        "\n",
        "    # En yüksek puanı alan dili bulalım.\n",
        "    detected_language = max(scores, key=scores.get)\n",
        "    return detected_language if scores[detected_language] > 0 else \"Unknown\"\n",
        "\n",
        "# Örnek kullanım\n",
        "if __name__ == \"__main__\":\n",
        "    text = \"Este es un ejemplo de texto en español.\"\n",
        "    print(\"Detected language:\", detect_language(text))\n"
      ]
    }
  ]
}